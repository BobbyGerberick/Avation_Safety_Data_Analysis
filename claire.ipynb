{
 "cells": [
  {
   "cell_type": "markdown",
   "metadata": {},
   "source": [
    "Business Question Brainstorm:\n",
    "- Cost of Plane\n",
    "- Personal vs. Commercial\n",
    "- Spatial:  \n",
    "           - United States:\n",
    "                    - Can use lat/long to look at geography \n",
    "           - International vs US\n",
    "           - Developed vs. Developing (and temporal?)\n",
    "\n",
    "\n",
    "Data Cleaning List:\n",
    "- Subset by time period\n",
    "- Subset into developed vs. developing - before and after developing, then developed\n",
    "- Remove dupes based on Event.id"
   ]
  }
 ],
 "metadata": {
  "kernelspec": {
   "display_name": "Python 3",
   "language": "python",
   "name": "python3"
  },
  "language_info": {
   "codemirror_mode": {
    "name": "ipython",
    "version": 3
   },
   "file_extension": ".py",
   "mimetype": "text/x-python",
   "name": "python",
   "nbconvert_exporter": "python",
   "pygments_lexer": "ipython3",
   "version": "3.8.5"
  }
 },
 "nbformat": 4,
 "nbformat_minor": 2
}
