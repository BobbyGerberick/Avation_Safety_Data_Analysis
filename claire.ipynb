{
 "cells": [
  {
   "cell_type": "markdown",
   "metadata": {},
   "source": [
    "Business Question Brainstorm:\n",
    "- Cost of Plane\n",
    "- Personal vs. Commercial\n",
    "- Spatial:  \n",
    "           - United States:\n",
    "                    - Can use lat/long to look at geography \n",
    "           - International vs US\n",
    "           - Developed vs. Developing (and temporal?)\n",
    "\n",
    "\n",
    "Data Cleaning List:\n",
    "- Subset by time period\n",
    "- Subset into developed vs. developing - before and after developing, then developed\n",
    "- Remove dupes based on Event.id"
   ]
  }
 ],
 "metadata": {
  "language_info": {
   "name": "python"
  },
  "orig_nbformat": 4
 },
 "nbformat": 4,
 "nbformat_minor": 2
}
