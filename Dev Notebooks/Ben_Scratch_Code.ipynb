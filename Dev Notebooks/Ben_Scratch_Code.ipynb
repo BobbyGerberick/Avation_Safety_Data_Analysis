{
 "cells": [
  {
   "cell_type": "code",
   "execution_count": 1,
   "metadata": {},
   "outputs": [],
   "source": [
    "##Recommend commercial instead of private\n",
    "##"
   ]
  },
  {
   "cell_type": "code",
   "execution_count": 2,
   "metadata": {
    "scrolled": true
   },
   "outputs": [
    {
     "name": "stderr",
     "output_type": "stream",
     "text": [
      "C:\\Users\\42ben\\anaconda3\\envs\\learn-env\\lib\\site-packages\\IPython\\core\\interactiveshell.py:3145: DtypeWarning: Columns (6,7,28) have mixed types.Specify dtype option on import or set low_memory=False.\n",
      "  has_raised = await self.run_ast_nodes(code_ast.body, cell_name,\n"
     ]
    }
   ],
   "source": [
    "import pandas as pd\n",
    "df = pd.read_csv(\"project_data/Aviation_Data.csv\")"
   ]
  },
  {
   "cell_type": "code",
   "execution_count": 3,
   "metadata": {},
   "outputs": [
    {
     "name": "stdout",
     "output_type": "stream",
     "text": [
      "<class 'pandas.core.frame.DataFrame'>\n",
      "RangeIndex: 90348 entries, 0 to 90347\n",
      "Data columns (total 31 columns):\n",
      " #   Column                  Non-Null Count  Dtype  \n",
      "---  ------                  --------------  -----  \n",
      " 0   Event.Id                88889 non-null  object \n",
      " 1   Investigation.Type      90348 non-null  object \n",
      " 2   Accident.Number         88889 non-null  object \n",
      " 3   Event.Date              88889 non-null  object \n",
      " 4   Location                88837 non-null  object \n",
      " 5   Country                 88663 non-null  object \n",
      " 6   Latitude                34382 non-null  object \n",
      " 7   Longitude               34373 non-null  object \n",
      " 8   Airport.Code            50249 non-null  object \n",
      " 9   Airport.Name            52790 non-null  object \n",
      " 10  Injury.Severity         87889 non-null  object \n",
      " 11  Aircraft.damage         85695 non-null  object \n",
      " 12  Aircraft.Category       32287 non-null  object \n",
      " 13  Registration.Number     87572 non-null  object \n",
      " 14  Make                    88826 non-null  object \n",
      " 15  Model                   88797 non-null  object \n",
      " 16  Amateur.Built           88787 non-null  object \n",
      " 17  Number.of.Engines       82805 non-null  float64\n",
      " 18  Engine.Type             81812 non-null  object \n",
      " 19  FAR.Description         32023 non-null  object \n",
      " 20  Schedule                12582 non-null  object \n",
      " 21  Purpose.of.flight       82697 non-null  object \n",
      " 22  Air.carrier             16648 non-null  object \n",
      " 23  Total.Fatal.Injuries    77488 non-null  float64\n",
      " 24  Total.Serious.Injuries  76379 non-null  float64\n",
      " 25  Total.Minor.Injuries    76956 non-null  float64\n",
      " 26  Total.Uninjured         82977 non-null  float64\n",
      " 27  Weather.Condition       84397 non-null  object \n",
      " 28  Broad.phase.of.flight   61724 non-null  object \n",
      " 29  Report.Status           82508 non-null  object \n",
      " 30  Publication.Date        73659 non-null  object \n",
      "dtypes: float64(5), object(26)\n",
      "memory usage: 21.4+ MB\n"
     ]
    }
   ],
   "source": [
    "df.info()"
   ]
  },
  {
   "cell_type": "code",
   "execution_count": 4,
   "metadata": {},
   "outputs": [],
   "source": [
    "# Coerce date into pandas date time object\n",
    "\n",
    "df[\"Event.Date\"] = pd.to_datetime(df['Event.Date'], format='%Y-%m-%d', errors = 'coerce')\n"
   ]
  },
  {
   "cell_type": "code",
   "execution_count": 5,
   "metadata": {},
   "outputs": [],
   "source": [
    "df_clean = df.dropna(subset=['Event.Id'])\n"
   ]
  },
  {
   "cell_type": "code",
   "execution_count": 6,
   "metadata": {},
   "outputs": [
    {
     "data": {
      "text/plain": [
       "Event.Id                      0\n",
       "Investigation.Type            0\n",
       "Accident.Number               0\n",
       "Event.Date                    0\n",
       "Location                     52\n",
       "Country                     226\n",
       "Latitude                  54507\n",
       "Longitude                 54516\n",
       "Airport.Code              38640\n",
       "Airport.Name              36099\n",
       "Injury.Severity            1000\n",
       "Aircraft.damage            3194\n",
       "Aircraft.Category         56602\n",
       "Registration.Number        1317\n",
       "Make                         63\n",
       "Model                        92\n",
       "Amateur.Built               102\n",
       "Number.of.Engines          6084\n",
       "Engine.Type                7077\n",
       "FAR.Description           56866\n",
       "Schedule                  76307\n",
       "Purpose.of.flight          6192\n",
       "Air.carrier               72241\n",
       "Total.Fatal.Injuries      11401\n",
       "Total.Serious.Injuries    12510\n",
       "Total.Minor.Injuries      11933\n",
       "Total.Uninjured            5912\n",
       "Weather.Condition          4492\n",
       "Broad.phase.of.flight     27165\n",
       "Report.Status              6381\n",
       "Publication.Date          15230\n",
       "dtype: int64"
      ]
     },
     "execution_count": 6,
     "metadata": {},
     "output_type": "execute_result"
    }
   ],
   "source": [
    "# After dropping rows where Event.Id null,\n",
    "# We now have a dataset where first 4 columns have no nulls\n",
    "# We think this makes sense because without an id or accident number, the event wasn't properly documented\n",
    "df_clean.isna().sum()"
   ]
  },
  {
   "cell_type": "code",
   "execution_count": 7,
   "metadata": {},
   "outputs": [],
   "source": [
    "##Create a dataframe that only contains data from the last 30 years\n",
    "df_30 = df_clean[df_clean['Event.Date'] >= '1993-01-01']"
   ]
  },
  {
   "cell_type": "code",
   "execution_count": 8,
   "metadata": {},
   "outputs": [
    {
     "name": "stdout",
     "output_type": "stream",
     "text": [
      "1993-01-01 00:00:00\n",
      "2022-12-29 00:00:00\n"
     ]
    }
   ],
   "source": [
    "##Sanity check, make sure we are only dealing with data from the last 30 years\n",
    "print(df_30['Event.Date'].min())\n",
    "print(df_30['Event.Date'].max())"
   ]
  },
  {
   "cell_type": "code",
   "execution_count": 9,
   "metadata": {},
   "outputs": [],
   "source": [
    "##create a new column that calculates the total number of injuries. \n",
    "##They have them split into 3 categories (fatal, minor, and serious) without a total.\n",
    "df['Total.Injuries'] = df['Total.Fatal.Injuries'] + df['Total.Minor.Injuries'] + df['Total.Serious.Injuries']"
   ]
  },
  {
   "cell_type": "code",
   "execution_count": 10,
   "metadata": {},
   "outputs": [],
   "source": [
    "##Outside data to grab for certain models: Cost and Capacity, can divide total injured by capacity to find injury rate"
   ]
  },
  {
   "cell_type": "code",
   "execution_count": 11,
   "metadata": {},
   "outputs": [
    {
     "name": "stdout",
     "output_type": "stream",
     "text": [
      "<class 'pandas.core.frame.DataFrame'>\n",
      "Int64Index: 88889 entries, 0 to 90347\n",
      "Data columns (total 31 columns):\n",
      " #   Column                  Non-Null Count  Dtype         \n",
      "---  ------                  --------------  -----         \n",
      " 0   Event.Id                88889 non-null  object        \n",
      " 1   Investigation.Type      88889 non-null  object        \n",
      " 2   Accident.Number         88889 non-null  object        \n",
      " 3   Event.Date              88889 non-null  datetime64[ns]\n",
      " 4   Location                88837 non-null  object        \n",
      " 5   Country                 88663 non-null  object        \n",
      " 6   Latitude                34382 non-null  object        \n",
      " 7   Longitude               34373 non-null  object        \n",
      " 8   Airport.Code            50249 non-null  object        \n",
      " 9   Airport.Name            52790 non-null  object        \n",
      " 10  Injury.Severity         87889 non-null  object        \n",
      " 11  Aircraft.damage         85695 non-null  object        \n",
      " 12  Aircraft.Category       32287 non-null  object        \n",
      " 13  Registration.Number     87572 non-null  object        \n",
      " 14  Make                    88826 non-null  object        \n",
      " 15  Model                   88797 non-null  object        \n",
      " 16  Amateur.Built           88787 non-null  object        \n",
      " 17  Number.of.Engines       82805 non-null  float64       \n",
      " 18  Engine.Type             81812 non-null  object        \n",
      " 19  FAR.Description         32023 non-null  object        \n",
      " 20  Schedule                12582 non-null  object        \n",
      " 21  Purpose.of.flight       82697 non-null  object        \n",
      " 22  Air.carrier             16648 non-null  object        \n",
      " 23  Total.Fatal.Injuries    77488 non-null  float64       \n",
      " 24  Total.Serious.Injuries  76379 non-null  float64       \n",
      " 25  Total.Minor.Injuries    76956 non-null  float64       \n",
      " 26  Total.Uninjured         82977 non-null  float64       \n",
      " 27  Weather.Condition       84397 non-null  object        \n",
      " 28  Broad.phase.of.flight   61724 non-null  object        \n",
      " 29  Report.Status           82508 non-null  object        \n",
      " 30  Publication.Date        73659 non-null  object        \n",
      "dtypes: datetime64[ns](1), float64(5), object(25)\n",
      "memory usage: 21.7+ MB\n"
     ]
    }
   ],
   "source": [
    "df_clean.info()"
   ]
  },
  {
   "cell_type": "code",
   "execution_count": 12,
   "metadata": {},
   "outputs": [
    {
     "data": {
      "text/plain": [
       "87951"
      ]
     },
     "execution_count": 12,
     "metadata": {},
     "output_type": "execute_result"
    }
   ],
   "source": [
    "##checking for duplicates by Event.Id\n",
    "df_clean['Event.Id'].nunique()"
   ]
  },
  {
   "cell_type": "code",
   "execution_count": 13,
   "metadata": {},
   "outputs": [],
   "source": [
    "##Dropping the duplicates\n",
    "df_clean1 = df_clean.drop_duplicates(subset=['Event.Id'])"
   ]
  },
  {
   "cell_type": "code",
   "execution_count": 14,
   "metadata": {},
   "outputs": [
    {
     "name": "stderr",
     "output_type": "stream",
     "text": [
      "<ipython-input-14-f435589ba447>:2: SettingWithCopyWarning: \n",
      "A value is trying to be set on a copy of a slice from a DataFrame.\n",
      "Try using .loc[row_indexer,col_indexer] = value instead\n",
      "\n",
      "See the caveats in the documentation: https://pandas.pydata.org/pandas-docs/stable/user_guide/indexing.html#returning-a-view-versus-a-copy\n",
      "  df_clean1['Make'] = df_clean1['Make'].str.lower()\n"
     ]
    }
   ],
   "source": [
    "##Cleaning the Make column: all lowercase\n",
    "df_clean1['Make'] = df_clean1['Make'].str.lower()"
   ]
  },
  {
   "cell_type": "code",
   "execution_count": 15,
   "metadata": {},
   "outputs": [
    {
     "name": "stderr",
     "output_type": "stream",
     "text": [
      "<ipython-input-15-9309ec45cd0c>:2: SettingWithCopyWarning: \n",
      "A value is trying to be set on a copy of a slice from a DataFrame.\n",
      "Try using .loc[row_indexer,col_indexer] = value instead\n",
      "\n",
      "See the caveats in the documentation: https://pandas.pydata.org/pandas-docs/stable/user_guide/indexing.html#returning-a-view-versus-a-copy\n",
      "  df_clean1['Make'] = df_clean1['Make'].str.title()\n"
     ]
    }
   ],
   "source": [
    "##Capitalize each word\n",
    "df_clean1['Make'] = df_clean1['Make'].str.title()"
   ]
  },
  {
   "cell_type": "code",
   "execution_count": 16,
   "metadata": {},
   "outputs": [
    {
     "name": "stderr",
     "output_type": "stream",
     "text": [
      "<ipython-input-16-29db5f22d264>:2: SettingWithCopyWarning: \n",
      "A value is trying to be set on a copy of a slice from a DataFrame.\n",
      "Try using .loc[row_indexer,col_indexer] = value instead\n",
      "\n",
      "See the caveats in the documentation: https://pandas.pydata.org/pandas-docs/stable/user_guide/indexing.html#returning-a-view-versus-a-copy\n",
      "  df_clean1['Make'] = df_clean1['Make'].str.strip()\n"
     ]
    }
   ],
   "source": [
    "##Get rid of whitespace\n",
    "df_clean1['Make'] = df_clean1['Make'].str.strip()"
   ]
  },
  {
   "cell_type": "code",
   "execution_count": 17,
   "metadata": {},
   "outputs": [
    {
     "name": "stderr",
     "output_type": "stream",
     "text": [
      "<ipython-input-17-38a9686ac8ab>:2: SettingWithCopyWarning: \n",
      "A value is trying to be set on a copy of a slice from a DataFrame.\n",
      "Try using .loc[row_indexer,col_indexer] = value instead\n",
      "\n",
      "See the caveats in the documentation: https://pandas.pydata.org/pandas-docs/stable/user_guide/indexing.html#returning-a-view-versus-a-copy\n",
      "  df_clean1['Model'] = df_clean1['Model'].str.upper()\n"
     ]
    }
   ],
   "source": [
    "##clean model column starting by making everything uppercase\n",
    "df_clean1['Model'] = df_clean1['Model'].str.upper()"
   ]
  },
  {
   "cell_type": "code",
   "execution_count": 18,
   "metadata": {},
   "outputs": [
    {
     "name": "stderr",
     "output_type": "stream",
     "text": [
      "<ipython-input-18-a78600e353ec>:2: SettingWithCopyWarning: \n",
      "A value is trying to be set on a copy of a slice from a DataFrame.\n",
      "Try using .loc[row_indexer,col_indexer] = value instead\n",
      "\n",
      "See the caveats in the documentation: https://pandas.pydata.org/pandas-docs/stable/user_guide/indexing.html#returning-a-view-versus-a-copy\n",
      "  df_clean1['Model'] = df_clean1['Model'].str.strip()\n"
     ]
    }
   ],
   "source": [
    "##get rid of whitespace\n",
    "df_clean1['Model'] = df_clean1['Model'].str.strip()"
   ]
  },
  {
   "cell_type": "code",
   "execution_count": 19,
   "metadata": {},
   "outputs": [
    {
     "data": {
      "text/plain": [
       "11563"
      ]
     },
     "execution_count": 19,
     "metadata": {},
     "output_type": "execute_result"
    }
   ],
   "source": [
    "df_clean1['Model'].nunique()"
   ]
  },
  {
   "cell_type": "code",
   "execution_count": 20,
   "metadata": {},
   "outputs": [
    {
     "data": {
      "text/plain": [
       "7552"
      ]
     },
     "execution_count": 20,
     "metadata": {},
     "output_type": "execute_result"
    }
   ],
   "source": [
    "df_clean1['Make'].nunique()"
   ]
  },
  {
   "cell_type": "code",
   "execution_count": 21,
   "metadata": {},
   "outputs": [
    {
     "name": "stdout",
     "output_type": "stream",
     "text": [
      "<class 'pandas.core.frame.DataFrame'>\n",
      "Int64Index: 87951 entries, 0 to 90347\n",
      "Data columns (total 31 columns):\n",
      " #   Column                  Non-Null Count  Dtype         \n",
      "---  ------                  --------------  -----         \n",
      " 0   Event.Id                87951 non-null  object        \n",
      " 1   Investigation.Type      87951 non-null  object        \n",
      " 2   Accident.Number         87951 non-null  object        \n",
      " 3   Event.Date              87951 non-null  datetime64[ns]\n",
      " 4   Location                87899 non-null  object        \n",
      " 5   Country                 87729 non-null  object        \n",
      " 6   Latitude                34212 non-null  object        \n",
      " 7   Longitude               34203 non-null  object        \n",
      " 8   Airport.Code            49601 non-null  object        \n",
      " 9   Airport.Name            52117 non-null  object        \n",
      " 10  Injury.Severity         86961 non-null  object        \n",
      " 11  Aircraft.damage         84848 non-null  object        \n",
      " 12  Aircraft.Category       32181 non-null  object        \n",
      " 13  Registration.Number     86666 non-null  object        \n",
      " 14  Make                    87888 non-null  object        \n",
      " 15  Model                   87859 non-null  object        \n",
      " 16  Amateur.Built           87851 non-null  object        \n",
      " 17  Number.of.Engines       81924 non-null  float64       \n",
      " 18  Engine.Type             80927 non-null  object        \n",
      " 19  FAR.Description         31915 non-null  object        \n",
      " 20  Schedule                12360 non-null  object        \n",
      " 21  Purpose.of.flight       81829 non-null  object        \n",
      " 22  Air.carrier             16533 non-null  object        \n",
      " 23  Total.Fatal.Injuries    76684 non-null  float64       \n",
      " 24  Total.Serious.Injuries  75629 non-null  float64       \n",
      " 25  Total.Minor.Injuries    76191 non-null  float64       \n",
      " 26  Total.Uninjured         82088 non-null  float64       \n",
      " 27  Weather.Condition       83478 non-null  object        \n",
      " 28  Broad.phase.of.flight   60837 non-null  object        \n",
      " 29  Report.Status           81590 non-null  object        \n",
      " 30  Publication.Date        72894 non-null  object        \n",
      "dtypes: datetime64[ns](1), float64(5), object(25)\n",
      "memory usage: 21.5+ MB\n"
     ]
    }
   ],
   "source": [
    "df_clean1.info()"
   ]
  },
  {
   "cell_type": "code",
   "execution_count": 22,
   "metadata": {},
   "outputs": [
    {
     "data": {
      "text/plain": [
       "55770"
      ]
     },
     "execution_count": 22,
     "metadata": {},
     "output_type": "execute_result"
    }
   ],
   "source": [
    "df_clean1['Aircraft.Category'].isna().sum()"
   ]
  },
  {
   "cell_type": "code",
   "execution_count": 23,
   "metadata": {},
   "outputs": [
    {
     "name": "stderr",
     "output_type": "stream",
     "text": [
      "C:\\Users\\42ben\\anaconda3\\envs\\learn-env\\lib\\site-packages\\pandas\\core\\series.py:4517: SettingWithCopyWarning: \n",
      "A value is trying to be set on a copy of a slice from a DataFrame\n",
      "\n",
      "See the caveats in the documentation: https://pandas.pydata.org/pandas-docs/stable/user_guide/indexing.html#returning-a-view-versus-a-copy\n",
      "  return super().fillna(\n"
     ]
    }
   ],
   "source": [
    "df_clean1['Aircraft.Category'].fillna('n/a', inplace=True)"
   ]
  },
  {
   "cell_type": "code",
   "execution_count": 24,
   "metadata": {
    "scrolled": true
   },
   "outputs": [],
   "source": [
    "df_clean2 = df_clean1.loc[(df_clean1['Aircraft.Category'] == 'Airplane') | (df_clean1['Aircraft.Category'] == 'n/a')]"
   ]
  },
  {
   "cell_type": "code",
   "execution_count": 25,
   "metadata": {},
   "outputs": [
    {
     "data": {
      "text/plain": [
       "n/a         55770\n",
       "Airplane    27520\n",
       "Name: Aircraft.Category, dtype: int64"
      ]
     },
     "execution_count": 25,
     "metadata": {},
     "output_type": "execute_result"
    }
   ],
   "source": [
    "##Sanity check\n",
    "df_clean2['Aircraft.Category'].value_counts()"
   ]
  },
  {
   "cell_type": "code",
   "execution_count": 26,
   "metadata": {},
   "outputs": [
    {
     "name": "stderr",
     "output_type": "stream",
     "text": [
      "<ipython-input-26-dab208b01915>:2: SettingWithCopyWarning: \n",
      "A value is trying to be set on a copy of a slice from a DataFrame.\n",
      "Try using .loc[row_indexer,col_indexer] = value instead\n",
      "\n",
      "See the caveats in the documentation: https://pandas.pydata.org/pandas-docs/stable/user_guide/indexing.html#returning-a-view-versus-a-copy\n",
      "  df_clean2[\"Make.Model\"] = df_clean2['Make'].astype(str) +\"_\"+ df_clean2[\"Model\"]\n"
     ]
    }
   ],
   "source": [
    "#Concatenate Make and Model:\n",
    "df_clean2[\"Make.Model\"] = df_clean2['Make'].astype(str) +\"_\"+ df_clean2[\"Model\"]"
   ]
  },
  {
   "cell_type": "code",
   "execution_count": 27,
   "metadata": {},
   "outputs": [],
   "source": [
    "#Divide dataframe into two: one where Airport.Category = “Airplane” and one where = ‘n/a’\n",
    "df_plane = df_clean2[df_clean2['Aircraft.Category'] == 'Airplane']\n",
    "df_na = df_clean2[df_clean2['Aircraft.Category'] == 'n/a']\n"
   ]
  },
  {
   "cell_type": "code",
   "execution_count": 28,
   "metadata": {},
   "outputs": [],
   "source": [
    "#Create Pandas data series containing only those unique categories of Make.Model in df_plane:\n",
    "df_plane_cat = df_plane['Make.Model']\n"
   ]
  },
  {
   "cell_type": "code",
   "execution_count": null,
   "metadata": {},
   "outputs": [],
   "source": [
    "\n"
   ]
  },
  {
   "cell_type": "code",
   "execution_count": 29,
   "metadata": {
    "scrolled": true
   },
   "outputs": [
    {
     "data": {
      "text/plain": [
       "Personal                     0.609931\n",
       "Instructional                0.125661\n",
       "Unknown                      0.081707\n",
       "Aerial Application           0.056089\n",
       "Business                     0.048911\n",
       "Positioning                  0.018465\n",
       "Other Work Use               0.013072\n",
       "Ferry                        0.010106\n",
       "Public Aircraft              0.008822\n",
       "Aerial Observation           0.007936\n",
       "Executive/corporate          0.006703\n",
       "Flight Test                  0.004494\n",
       "Skydiving                    0.002311\n",
       "Banner Tow                   0.001297\n",
       "Air Race show                0.000963\n",
       "Public Aircraft - Federal    0.000963\n",
       "Air Race/show                0.000629\n",
       "Glider Tow                   0.000539\n",
       "Public Aircraft - State      0.000437\n",
       "Firefighting                 0.000295\n",
       "Public Aircraft - Local      0.000257\n",
       "External Load                0.000231\n",
       "Air Drop                     0.000077\n",
       "ASHO                         0.000064\n",
       "PUBS                         0.000039\n",
       "Name: Purpose.of.flight, dtype: float64"
      ]
     },
     "execution_count": 29,
     "metadata": {},
     "output_type": "execute_result"
    }
   ],
   "source": [
    "##Suggestion = Avoid business with personal airplanes and planes used for instructing\n",
    "df_clean2['Purpose.of.flight'].value_counts(normalize=True)"
   ]
  },
  {
   "cell_type": "code",
   "execution_count": 30,
   "metadata": {},
   "outputs": [
    {
     "data": {
      "text/plain": [
       "5414"
      ]
     },
     "execution_count": 30,
     "metadata": {},
     "output_type": "execute_result"
    }
   ],
   "source": [
    "df_clean2['Purpose.of.flight'].isna().sum()"
   ]
  },
  {
   "cell_type": "code",
   "execution_count": 31,
   "metadata": {},
   "outputs": [],
   "source": [
    "#Fill all NaN values with 'Unknown' b/c we already have Uknown as a value in the data\n",
    "df_clean2['Purpose.of.flight'].fillna('Unknown', inplace=True)"
   ]
  },
  {
   "cell_type": "code",
   "execution_count": 32,
   "metadata": {},
   "outputs": [
    {
     "data": {
      "text/plain": [
       "Personal                     0.570285\n",
       "Unknown                      0.141398\n",
       "Instructional                0.117493\n",
       "Aerial Application           0.052443\n",
       "Business                     0.045732\n",
       "Positioning                  0.017265\n",
       "Other Work Use               0.012222\n",
       "Ferry                        0.009449\n",
       "Public Aircraft              0.008248\n",
       "Aerial Observation           0.007420\n",
       "Executive/corporate          0.006267\n",
       "Flight Test                  0.004202\n",
       "Skydiving                    0.002161\n",
       "Banner Tow                   0.001213\n",
       "Air Race show                0.000900\n",
       "Public Aircraft - Federal    0.000900\n",
       "Air Race/show                0.000588\n",
       "Glider Tow                   0.000504\n",
       "Public Aircraft - State      0.000408\n",
       "Firefighting                 0.000276\n",
       "Public Aircraft - Local      0.000240\n",
       "External Load                0.000216\n",
       "Air Drop                     0.000072\n",
       "ASHO                         0.000060\n",
       "PUBS                         0.000036\n",
       "Name: Purpose.of.flight, dtype: float64"
      ]
     },
     "execution_count": 32,
     "metadata": {},
     "output_type": "execute_result"
    }
   ],
   "source": [
    "#Sanity check, Unkown went up in numbers and now surpasses Instructional for the number 2 spot\n",
    "df_clean2['Purpose.of.flight'].value_counts(normalize=True)"
   ]
  },
  {
   "cell_type": "code",
   "execution_count": 33,
   "metadata": {},
   "outputs": [
    {
     "data": {
      "text/plain": [
       "['Personal', 'Unknown', 'Instructional', 'Aerial Application', 'Business']"
      ]
     },
     "execution_count": 33,
     "metadata": {},
     "output_type": "execute_result"
    }
   ],
   "source": [
    "##Create a list of the top 5 purposes of flights\n",
    "Purpose_Frequencies = df_clean2['Purpose.of.flight'].value_counts()\n",
    "Top_Purposes = list(Purpose_Frequencies.index[0:5])\n",
    "Top_Purposes"
   ]
  },
  {
   "cell_type": "code",
   "execution_count": 34,
   "metadata": {},
   "outputs": [
    {
     "data": {
      "text/plain": [
       "[47499, 11777, 9786, 4368, 3809]"
      ]
     },
     "execution_count": 34,
     "metadata": {},
     "output_type": "execute_result"
    }
   ],
   "source": [
    "##Create a list of the counts of the top 5 purposes of flights\n",
    "Top_Purpose_Counts = list(Purpose_Frequencies.values[0:5])\n",
    "Top_Purpose_Counts"
   ]
  },
  {
   "cell_type": "code",
   "execution_count": 35,
   "metadata": {},
   "outputs": [],
   "source": [
    "import matplotlib.pyplot as plt \n",
    "import numpy as np"
   ]
  },
  {
   "cell_type": "code",
   "execution_count": 36,
   "metadata": {},
   "outputs": [
    {
     "name": "stderr",
     "output_type": "stream",
     "text": [
      "<ipython-input-36-2e54e85796e1>:10: UserWarning: FixedFormatter should only be used together with FixedLocator\n",
      "  ax.set_xticklabels(x, rotation=45);\n"
     ]
    },
    {
     "data": {
      "image/png": "[encoded data removed]",
      "text/plain": [
       "<Figure size 432x288 with 1 Axes>"
      ]
     },
     "metadata": {
      "needs_background": "light"
     },
     "output_type": "display_data"
    }
   ],
   "source": [
    "fig, ax = plt.subplots()\n",
    "\n",
    "x = Top_Purposes\n",
    "y = Top_Purpose_Counts\n",
    "\n",
    "ax.bar(x, y)\n",
    "ax.set_title('Purpose of Flight When an Accident/Incident Occurs')\n",
    "ax.set_ylabel('Amount of Flights')\n",
    "ax.set_xlabel('Purpose of Flight')\n",
    "ax.set_xticklabels(x, rotation=45);"
   ]
  },
  {
   "cell_type": "code",
   "execution_count": 37,
   "metadata": {},
   "outputs": [
    {
     "name": "stderr",
     "output_type": "stream",
     "text": [
      "<ipython-input-37-62de6774780a>:3: SettingWithCopyWarning: \n",
      "A value is trying to be set on a copy of a slice from a DataFrame.\n",
      "Try using .loc[row_indexer,col_indexer] = value instead\n",
      "\n",
      "See the caveats in the documentation: https://pandas.pydata.org/pandas-docs/stable/user_guide/indexing.html#returning-a-view-versus-a-copy\n",
      "  df_clean2['Total.Injuries'] = df_clean2['Total.Fatal.Injuries'] + df_clean2['Total.Minor.Injuries'] + df_clean2['Total.Serious.Injuries']\n"
     ]
    }
   ],
   "source": [
    "##create a new column that calculates the total number of injuries. \n",
    "##They have them split into 3 categories (fatal, minor, and serious) without a total.\n",
    "df_clean2['Total.Injuries'] = df_clean2['Total.Fatal.Injuries'] + df_clean2['Total.Minor.Injuries'] + df_clean2['Total.Serious.Injuries']"
   ]
  },
  {
   "cell_type": "code",
   "execution_count": 38,
   "metadata": {},
   "outputs": [
    {
     "name": "stdout",
     "output_type": "stream",
     "text": [
      "<class 'pandas.core.frame.DataFrame'>\n",
      "Int64Index: 83290 entries, 0 to 90347\n",
      "Data columns (total 33 columns):\n",
      " #   Column                  Non-Null Count  Dtype         \n",
      "---  ------                  --------------  -----         \n",
      " 0   Event.Id                83290 non-null  object        \n",
      " 1   Investigation.Type      83290 non-null  object        \n",
      " 2   Accident.Number         83290 non-null  object        \n",
      " 3   Event.Date              83290 non-null  datetime64[ns]\n",
      " 4   Location                83240 non-null  object        \n",
      " 5   Country                 83073 non-null  object        \n",
      " 6   Latitude                30339 non-null  object        \n",
      " 7   Longitude               30331 non-null  object        \n",
      " 8   Airport.Code            47759 non-null  object        \n",
      " 9   Airport.Name            50199 non-null  object        \n",
      " 10  Injury.Severity         82369 non-null  object        \n",
      " 11  Aircraft.damage         80363 non-null  object        \n",
      " 12  Aircraft.Category       83290 non-null  object        \n",
      " 13  Registration.Number     82052 non-null  object        \n",
      " 14  Make                    83230 non-null  object        \n",
      " 15  Model                   83200 non-null  object        \n",
      " 16  Amateur.Built           83192 non-null  object        \n",
      " 17  Number.of.Engines       77965 non-null  float64       \n",
      " 18  Engine.Type             77578 non-null  object        \n",
      " 19  FAR.Description         27363 non-null  object        \n",
      " 20  Schedule                11863 non-null  object        \n",
      " 21  Purpose.of.flight       83290 non-null  object        \n",
      " 22  Air.carrier             14177 non-null  object        \n",
      " 23  Total.Fatal.Injuries    72569 non-null  float64       \n",
      " 24  Total.Serious.Injuries  71463 non-null  float64       \n",
      " 25  Total.Minor.Injuries    71983 non-null  float64       \n",
      " 26  Total.Uninjured         77605 non-null  float64       \n",
      " 27  Weather.Condition       79426 non-null  object        \n",
      " 28  Broad.phase.of.flight   59874 non-null  object        \n",
      " 29  Report.Status           77915 non-null  object        \n",
      " 30  Publication.Date        68642 non-null  object        \n",
      " 31  Make.Model              83200 non-null  object        \n",
      " 32  Total.Injuries          69614 non-null  float64       \n",
      "dtypes: datetime64[ns](1), float64(6), object(26)\n",
      "memory usage: 21.6+ MB\n"
     ]
    }
   ],
   "source": [
    "df_clean2.info()"
   ]
  },
  {
   "cell_type": "code",
   "execution_count": 40,
   "metadata": {},
   "outputs": [],
   "source": [
    "##Creating a dataframe of instructional flights only\n",
    "Instructional_Flights = df_clean2[df_clean2['Purpose.of.flight'] == 'Instructional']"
   ]
  },
  {
   "cell_type": "code",
   "execution_count": 42,
   "metadata": {},
   "outputs": [
    {
     "data": {
      "text/plain": [
       "Cessna                            5021\n",
       "Piper                             1946\n",
       "Beech                              488\n",
       "Robinson                           279\n",
       "Schweizer                          137\n",
       "Hughes                             127\n",
       "Bell                               119\n",
       "Bellanca                           102\n",
       "Aeronca                             82\n",
       "Mooney                              63\n",
       "Champion                            50\n",
       "Diamond Aircraft Ind Inc            42\n",
       "Grumman                             41\n",
       "Enstrom                             39\n",
       "Luscombe                            38\n",
       "Cirrus Design Corp                  35\n",
       "Taylorcraft                         30\n",
       "Grumman American                    27\n",
       "Hiller                              26\n",
       "Diamond                             24\n",
       "Burkhart Grob                       24\n",
       "Let                                 23\n",
       "Stinson                             21\n",
       "Maule                               20\n",
       "North American                      19\n",
       "Boeing                              17\n",
       "Diamond Aircraft Industries         17\n",
       "Cirrus                              16\n",
       "Aero Commander                      16\n",
       "Aerospatiale                        15\n",
       "Socata                              13\n",
       "Flight Design Gmbh                  13\n",
       "Costruzioni Aeronautiche Tecna      13\n",
       "Rotorway                            12\n",
       "Ercoupe (Eng & Research Corp.)      12\n",
       "Evektor-Aerotechnik As              12\n",
       "Lake                                12\n",
       "Fairchild                           11\n",
       "De Havilland                        11\n",
       "Aircraft Mfg & Dev. Co. (Amd)       10\n",
       "Aviat                               10\n",
       "Mcdonnell Douglas                   10\n",
       "Tecnam                              10\n",
       "American Champion Aircraft           9\n",
       "Cessna Aircraft Co                   8\n",
       "Brantly Helicopter                   8\n",
       "Swearingen                           7\n",
       "American Champion (Acac)             7\n",
       "Pitts                                7\n",
       "Ryan                                 6\n",
       "Name: Make, dtype: int64"
      ]
     },
     "execution_count": 42,
     "metadata": {},
     "output_type": "execute_result"
    }
   ],
   "source": [
    "##Can see instructional flights typically involve the small planes\n",
    "#Made by Cessna and Piper that we already advise against, Boeing is #26 on the list w/ 17 accidents\n",
    "Instructional_Flights['Make'].value_counts()[:50]"
   ]
  },
  {
   "cell_type": "code",
   "execution_count": null,
   "metadata": {},
   "outputs": [],
   "source": [
    "##code going off bobby's notebook to make bar chart of Boeing and Airbus\n",
    "## vs. Puropose of flight to show Instructional with heavy aircraft is safe"
   ]
  },
  {
   "cell_type": "code",
   "execution_count": null,
   "metadata": {},
   "outputs": [],
   "source": [
    "#df_30['Purpose.of.flight'].value_counts()"
   ]
  },
  {
   "cell_type": "code",
   "execution_count": null,
   "metadata": {},
   "outputs": [],
   "source": [
    "#df_30['Purpose.of.flight'].isna().sum()"
   ]
  },
  {
   "cell_type": "code",
   "execution_count": null,
   "metadata": {},
   "outputs": [],
   "source": [
    "#df_30 = df_30[df_30['Purpose.of.flight'] != 'Unknown']"
   ]
  },
  {
   "cell_type": "code",
   "execution_count": null,
   "metadata": {},
   "outputs": [],
   "source": [
    "#df_30['Purpose.of.flight'].value_counts()"
   ]
  },
  {
   "cell_type": "code",
   "execution_count": null,
   "metadata": {},
   "outputs": [],
   "source": [
    "#Boeing = df_30[df_30['Make'] == 'Boeing']"
   ]
  },
  {
   "cell_type": "code",
   "execution_count": null,
   "metadata": {},
   "outputs": [],
   "source": [
    "##Create a list of the top 5 purposes of flights\n",
    "#Purpose_Frequencies = Boeing['Purpose.of.flight'].value_counts()\n",
    "#Top_Purposes = list(Purpose_Frequencies.index[0:5])\n",
    "#Top_Purposes"
   ]
  },
  {
   "cell_type": "code",
   "execution_count": null,
   "metadata": {},
   "outputs": [],
   "source": [
    "##Create a list of the counts of the top 5 purposes of flights\n",
    "#Top_Purpose_Counts = list(Purpose_Frequencies.values[0:5])\n",
    "#Top_Purpose_Counts"
   ]
  },
  {
   "cell_type": "code",
   "execution_count": null,
   "metadata": {},
   "outputs": [],
   "source": [
    "#fig, ax = plt.subplots()\n",
    "\n",
    "#x = Top_Purposes\n",
    "#y = Top_Purpose_Counts\n",
    "\n",
    "#ax.bar(x, y)\n",
    "#ax.set_title('Top 5 Purposes of Boeing Flights')\n",
    "#ax.set_ylabel('Amount of Accidents')\n",
    "#ax.set_xlabel('Purpose of Flight')\n",
    "#ax.set_xticklabels(x, rotation=45);\n",
    "#plt.savefig('Boeing_Bar_Chart.png', bbox_inches='tight');"
   ]
  }
 ],
 "metadata": {
  "kernelspec": {
   "display_name": "Python (learn-env)",
   "language": "python",
   "name": "learn-env"
  },
  "language_info": {
   "codemirror_mode": {
    "name": "ipython",
    "version": 3
   },
   "file_extension": ".py",
   "mimetype": "text/x-python",
   "name": "python",
   "nbconvert_exporter": "python",
   "pygments_lexer": "ipython3",
   "version": "3.8.5"
  }
 },
 "nbformat": 4,
 "nbformat_minor": 4
}
