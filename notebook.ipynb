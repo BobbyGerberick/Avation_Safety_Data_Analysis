{
 "cells": [
  {
   "cell_type": "markdown",
   "metadata": {},
   "source": [
    "# Enterprise Risk Analysis: Exploring the Aircraft Leasing Industry"
   ]
  },
  {
   "cell_type": "markdown",
   "metadata": {},
   "source": [
    "# Project Goal\n",
    "## Our project aim is to determine how to avoid potential risks associated with operating an aircraft leasing business."
   ]
  },
  {
   "cell_type": "markdown",
   "metadata": {},
   "source": [
    "## Data Source and Data Exploration"
   ]
  },
  {
   "cell_type": "markdown",
   "metadata": {},
   "source": [
    "Our data is from the [National Transportation Safety Board (NTSB)](https://www.ntsb.gov/Pages/AviationQuery.aspx) dataset of aviation accidents. Each row in the dataset represents an aircraft accident. The types of flights included are non-military and non-state flights, collectively called \"civil aviation,\"which includes both private and commercial."
   ]
  },
  {
   "cell_type": "markdown",
   "metadata": {},
   "source": [
    "## Import Packages and Read in Data"
   ]
  },
  {
   "cell_type": "code",
   "execution_count": 317,
   "metadata": {},
   "outputs": [],
   "source": [
    "import numpy as np\n",
    "import matplotlib.pyplot as plt\n",
    "import pandas as pd\n",
    "import pandas.api.types as ptypes\n",
    "\n",
    "#Hides warnings\n",
    "import warnings\n",
    "from pandas.core.common import SettingWithCopyWarning\n",
    "warnings.simplefilter(action=\"ignore\", category=SettingWithCopyWarning)"
   ]
  },
  {
   "cell_type": "code",
   "execution_count": 318,
   "metadata": {},
   "outputs": [
    {
     "name": "stderr",
     "output_type": "stream",
     "text": [
      "C:\\Users\\42ben\\anaconda3\\envs\\learn-env\\lib\\site-packages\\IPython\\core\\interactiveshell.py:3145: DtypeWarning: Columns (6,7,28) have mixed types.Specify dtype option on import or set low_memory=False.\n",
      "  has_raised = await self.run_ast_nodes(code_ast.body, cell_name,\n"
     ]
    }
   ],
   "source": [
    "df = pd.read_csv(\"project_data/Aviation_Data.csv\", delimiter=\",\")"
   ]
  },
  {
   "cell_type": "markdown",
   "metadata": {},
   "source": [
    "## Initial Data Exploration"
   ]
  },
  {
   "cell_type": "code",
   "execution_count": 319,
   "metadata": {},
   "outputs": [
    {
     "data": {
      "text/html": [
       "<div>\n",
       "<style scoped>\n",
       "    .dataframe tbody tr th:only-of-type {\n",
       "        vertical-align: middle;\n",
       "    }\n",
       "\n",
       "    .dataframe tbody tr th {\n",
       "        vertical-align: top;\n",
       "    }\n",
       "\n",
       "    .dataframe thead th {\n",
       "        text-align: right;\n",
       "    }\n",
       "</style>\n",
       "<table border=\"1\" class=\"dataframe\">\n",
       "  <thead>\n",
       "    <tr style=\"text-align: right;\">\n",
       "      <th></th>\n",
       "      <th>Event.Id</th>\n",
       "      <th>Investigation.Type</th>\n",
       "      <th>Accident.Number</th>\n",
       "      <th>Event.Date</th>\n",
       "      <th>Location</th>\n",
       "      <th>Country</th>\n",
       "      <th>Latitude</th>\n",
       "      <th>Longitude</th>\n",
       "      <th>Airport.Code</th>\n",
       "      <th>Airport.Name</th>\n",
       "      <th>Injury.Severity</th>\n",
       "      <th>Aircraft.damage</th>\n",
       "      <th>Aircraft.Category</th>\n",
       "      <th>Registration.Number</th>\n",
       "      <th>Make</th>\n",
       "      <th>Model</th>\n",
       "      <th>Amateur.Built</th>\n",
       "      <th>Number.of.Engines</th>\n",
       "      <th>Engine.Type</th>\n",
       "      <th>FAR.Description</th>\n",
       "      <th>Schedule</th>\n",
       "      <th>Purpose.of.flight</th>\n",
       "      <th>Air.carrier</th>\n",
       "      <th>Total.Fatal.Injuries</th>\n",
       "      <th>Total.Serious.Injuries</th>\n",
       "      <th>Total.Minor.Injuries</th>\n",
       "      <th>Total.Uninjured</th>\n",
       "      <th>Weather.Condition</th>\n",
       "      <th>Broad.phase.of.flight</th>\n",
       "      <th>Report.Status</th>\n",
       "      <th>Publication.Date</th>\n",
       "    </tr>\n",
       "  </thead>\n",
       "  <tbody>\n",
       "    <tr>\n",
       "      <th>0</th>\n",
       "      <td>20001218X45444</td>\n",
       "      <td>Accident</td>\n",
       "      <td>SEA87LA080</td>\n",
       "      <td>1948-10-24</td>\n",
       "      <td>MOOSE CREEK, ID</td>\n",
       "      <td>United States</td>\n",
       "      <td>NaN</td>\n",
       "      <td>NaN</td>\n",
       "      <td>NaN</td>\n",
       "      <td>NaN</td>\n",
       "      <td>Fatal(2)</td>\n",
       "      <td>Destroyed</td>\n",
       "      <td>NaN</td>\n",
       "      <td>NC6404</td>\n",
       "      <td>Stinson</td>\n",
       "      <td>108-3</td>\n",
       "      <td>No</td>\n",
       "      <td>1.0</td>\n",
       "      <td>Reciprocating</td>\n",
       "      <td>NaN</td>\n",
       "      <td>NaN</td>\n",
       "      <td>Personal</td>\n",
       "      <td>NaN</td>\n",
       "      <td>2.0</td>\n",
       "      <td>0.0</td>\n",
       "      <td>0.0</td>\n",
       "      <td>0.0</td>\n",
       "      <td>UNK</td>\n",
       "      <td>Cruise</td>\n",
       "      <td>Probable Cause</td>\n",
       "      <td>NaN</td>\n",
       "    </tr>\n",
       "    <tr>\n",
       "      <th>1</th>\n",
       "      <td>20001218X45447</td>\n",
       "      <td>Accident</td>\n",
       "      <td>LAX94LA336</td>\n",
       "      <td>1962-07-19</td>\n",
       "      <td>BRIDGEPORT, CA</td>\n",
       "      <td>United States</td>\n",
       "      <td>NaN</td>\n",
       "      <td>NaN</td>\n",
       "      <td>NaN</td>\n",
       "      <td>NaN</td>\n",
       "      <td>Fatal(4)</td>\n",
       "      <td>Destroyed</td>\n",
       "      <td>NaN</td>\n",
       "      <td>N5069P</td>\n",
       "      <td>Piper</td>\n",
       "      <td>PA24-180</td>\n",
       "      <td>No</td>\n",
       "      <td>1.0</td>\n",
       "      <td>Reciprocating</td>\n",
       "      <td>NaN</td>\n",
       "      <td>NaN</td>\n",
       "      <td>Personal</td>\n",
       "      <td>NaN</td>\n",
       "      <td>4.0</td>\n",
       "      <td>0.0</td>\n",
       "      <td>0.0</td>\n",
       "      <td>0.0</td>\n",
       "      <td>UNK</td>\n",
       "      <td>Unknown</td>\n",
       "      <td>Probable Cause</td>\n",
       "      <td>19-09-1996</td>\n",
       "    </tr>\n",
       "    <tr>\n",
       "      <th>2</th>\n",
       "      <td>20061025X01555</td>\n",
       "      <td>Accident</td>\n",
       "      <td>NYC07LA005</td>\n",
       "      <td>1974-08-30</td>\n",
       "      <td>Saltville, VA</td>\n",
       "      <td>United States</td>\n",
       "      <td>36.9222</td>\n",
       "      <td>-81.8781</td>\n",
       "      <td>NaN</td>\n",
       "      <td>NaN</td>\n",
       "      <td>Fatal(3)</td>\n",
       "      <td>Destroyed</td>\n",
       "      <td>NaN</td>\n",
       "      <td>N5142R</td>\n",
       "      <td>Cessna</td>\n",
       "      <td>172M</td>\n",
       "      <td>No</td>\n",
       "      <td>1.0</td>\n",
       "      <td>Reciprocating</td>\n",
       "      <td>NaN</td>\n",
       "      <td>NaN</td>\n",
       "      <td>Personal</td>\n",
       "      <td>NaN</td>\n",
       "      <td>3.0</td>\n",
       "      <td>NaN</td>\n",
       "      <td>NaN</td>\n",
       "      <td>NaN</td>\n",
       "      <td>IMC</td>\n",
       "      <td>Cruise</td>\n",
       "      <td>Probable Cause</td>\n",
       "      <td>26-02-2007</td>\n",
       "    </tr>\n",
       "    <tr>\n",
       "      <th>3</th>\n",
       "      <td>20001218X45448</td>\n",
       "      <td>Accident</td>\n",
       "      <td>LAX96LA321</td>\n",
       "      <td>1977-06-19</td>\n",
       "      <td>EUREKA, CA</td>\n",
       "      <td>United States</td>\n",
       "      <td>NaN</td>\n",
       "      <td>NaN</td>\n",
       "      <td>NaN</td>\n",
       "      <td>NaN</td>\n",
       "      <td>Fatal(2)</td>\n",
       "      <td>Destroyed</td>\n",
       "      <td>NaN</td>\n",
       "      <td>N1168J</td>\n",
       "      <td>Rockwell</td>\n",
       "      <td>112</td>\n",
       "      <td>No</td>\n",
       "      <td>1.0</td>\n",
       "      <td>Reciprocating</td>\n",
       "      <td>NaN</td>\n",
       "      <td>NaN</td>\n",
       "      <td>Personal</td>\n",
       "      <td>NaN</td>\n",
       "      <td>2.0</td>\n",
       "      <td>0.0</td>\n",
       "      <td>0.0</td>\n",
       "      <td>0.0</td>\n",
       "      <td>IMC</td>\n",
       "      <td>Cruise</td>\n",
       "      <td>Probable Cause</td>\n",
       "      <td>12-09-2000</td>\n",
       "    </tr>\n",
       "    <tr>\n",
       "      <th>4</th>\n",
       "      <td>20041105X01764</td>\n",
       "      <td>Accident</td>\n",
       "      <td>CHI79FA064</td>\n",
       "      <td>1979-08-02</td>\n",
       "      <td>Canton, OH</td>\n",
       "      <td>United States</td>\n",
       "      <td>NaN</td>\n",
       "      <td>NaN</td>\n",
       "      <td>NaN</td>\n",
       "      <td>NaN</td>\n",
       "      <td>Fatal(1)</td>\n",
       "      <td>Destroyed</td>\n",
       "      <td>NaN</td>\n",
       "      <td>N15NY</td>\n",
       "      <td>Cessna</td>\n",
       "      <td>501</td>\n",
       "      <td>No</td>\n",
       "      <td>NaN</td>\n",
       "      <td>NaN</td>\n",
       "      <td>NaN</td>\n",
       "      <td>NaN</td>\n",
       "      <td>Personal</td>\n",
       "      <td>NaN</td>\n",
       "      <td>1.0</td>\n",
       "      <td>2.0</td>\n",
       "      <td>NaN</td>\n",
       "      <td>0.0</td>\n",
       "      <td>VMC</td>\n",
       "      <td>Approach</td>\n",
       "      <td>Probable Cause</td>\n",
       "      <td>16-04-1980</td>\n",
       "    </tr>\n",
       "  </tbody>\n",
       "</table>\n",
       "</div>"
      ],
      "text/plain": [
       "         Event.Id Investigation.Type Accident.Number  Event.Date  \\\n",
       "0  20001218X45444           Accident      SEA87LA080  1948-10-24   \n",
       "1  20001218X45447           Accident      LAX94LA336  1962-07-19   \n",
       "2  20061025X01555           Accident      NYC07LA005  1974-08-30   \n",
       "3  20001218X45448           Accident      LAX96LA321  1977-06-19   \n",
       "4  20041105X01764           Accident      CHI79FA064  1979-08-02   \n",
       "\n",
       "          Location        Country Latitude Longitude Airport.Code  \\\n",
       "0  MOOSE CREEK, ID  United States      NaN       NaN          NaN   \n",
       "1   BRIDGEPORT, CA  United States      NaN       NaN          NaN   \n",
       "2    Saltville, VA  United States  36.9222  -81.8781          NaN   \n",
       "3       EUREKA, CA  United States      NaN       NaN          NaN   \n",
       "4       Canton, OH  United States      NaN       NaN          NaN   \n",
       "\n",
       "  Airport.Name Injury.Severity Aircraft.damage Aircraft.Category  \\\n",
       "0          NaN        Fatal(2)       Destroyed               NaN   \n",
       "1          NaN        Fatal(4)       Destroyed               NaN   \n",
       "2          NaN        Fatal(3)       Destroyed               NaN   \n",
       "3          NaN        Fatal(2)       Destroyed               NaN   \n",
       "4          NaN        Fatal(1)       Destroyed               NaN   \n",
       "\n",
       "  Registration.Number      Make     Model Amateur.Built  Number.of.Engines  \\\n",
       "0              NC6404   Stinson     108-3            No                1.0   \n",
       "1              N5069P     Piper  PA24-180            No                1.0   \n",
       "2              N5142R    Cessna      172M            No                1.0   \n",
       "3              N1168J  Rockwell       112            No                1.0   \n",
       "4               N15NY    Cessna       501            No                NaN   \n",
       "\n",
       "     Engine.Type FAR.Description Schedule Purpose.of.flight Air.carrier  \\\n",
       "0  Reciprocating             NaN      NaN          Personal         NaN   \n",
       "1  Reciprocating             NaN      NaN          Personal         NaN   \n",
       "2  Reciprocating             NaN      NaN          Personal         NaN   \n",
       "3  Reciprocating             NaN      NaN          Personal         NaN   \n",
       "4            NaN             NaN      NaN          Personal         NaN   \n",
       "\n",
       "   Total.Fatal.Injuries  Total.Serious.Injuries  Total.Minor.Injuries  \\\n",
       "0                   2.0                     0.0                   0.0   \n",
       "1                   4.0                     0.0                   0.0   \n",
       "2                   3.0                     NaN                   NaN   \n",
       "3                   2.0                     0.0                   0.0   \n",
       "4                   1.0                     2.0                   NaN   \n",
       "\n",
       "   Total.Uninjured Weather.Condition Broad.phase.of.flight   Report.Status  \\\n",
       "0              0.0               UNK                Cruise  Probable Cause   \n",
       "1              0.0               UNK               Unknown  Probable Cause   \n",
       "2              NaN               IMC                Cruise  Probable Cause   \n",
       "3              0.0               IMC                Cruise  Probable Cause   \n",
       "4              0.0               VMC              Approach  Probable Cause   \n",
       "\n",
       "  Publication.Date  \n",
       "0              NaN  \n",
       "1       19-09-1996  \n",
       "2       26-02-2007  \n",
       "3       12-09-2000  \n",
       "4       16-04-1980  "
      ]
     },
     "execution_count": 319,
     "metadata": {},
     "output_type": "execute_result"
    }
   ],
   "source": [
    "df.head()"
   ]
  },
  {
   "cell_type": "code",
   "execution_count": 320,
   "metadata": {},
   "outputs": [
    {
     "name": "stdout",
     "output_type": "stream",
     "text": [
      "<class 'pandas.core.frame.DataFrame'>\n",
      "RangeIndex: 90348 entries, 0 to 90347\n",
      "Data columns (total 31 columns):\n",
      " #   Column                  Non-Null Count  Dtype  \n",
      "---  ------                  --------------  -----  \n",
      " 0   Event.Id                88889 non-null  object \n",
      " 1   Investigation.Type      90348 non-null  object \n",
      " 2   Accident.Number         88889 non-null  object \n",
      " 3   Event.Date              88889 non-null  object \n",
      " 4   Location                88837 non-null  object \n",
      " 5   Country                 88663 non-null  object \n",
      " 6   Latitude                34382 non-null  object \n",
      " 7   Longitude               34373 non-null  object \n",
      " 8   Airport.Code            50249 non-null  object \n",
      " 9   Airport.Name            52790 non-null  object \n",
      " 10  Injury.Severity         87889 non-null  object \n",
      " 11  Aircraft.damage         85695 non-null  object \n",
      " 12  Aircraft.Category       32287 non-null  object \n",
      " 13  Registration.Number     87572 non-null  object \n",
      " 14  Make                    88826 non-null  object \n",
      " 15  Model                   88797 non-null  object \n",
      " 16  Amateur.Built           88787 non-null  object \n",
      " 17  Number.of.Engines       82805 non-null  float64\n",
      " 18  Engine.Type             81812 non-null  object \n",
      " 19  FAR.Description         32023 non-null  object \n",
      " 20  Schedule                12582 non-null  object \n",
      " 21  Purpose.of.flight       82697 non-null  object \n",
      " 22  Air.carrier             16648 non-null  object \n",
      " 23  Total.Fatal.Injuries    77488 non-null  float64\n",
      " 24  Total.Serious.Injuries  76379 non-null  float64\n",
      " 25  Total.Minor.Injuries    76956 non-null  float64\n",
      " 26  Total.Uninjured         82977 non-null  float64\n",
      " 27  Weather.Condition       84397 non-null  object \n",
      " 28  Broad.phase.of.flight   61724 non-null  object \n",
      " 29  Report.Status           82508 non-null  object \n",
      " 30  Publication.Date        73659 non-null  object \n",
      "dtypes: float64(5), object(26)\n",
      "memory usage: 21.4+ MB\n"
     ]
    }
   ],
   "source": [
    "df.info()"
   ]
  },
  {
   "cell_type": "markdown",
   "metadata": {},
   "source": [
    "## Convert Event.Date to Date Type"
   ]
  },
  {
   "cell_type": "code",
   "execution_count": 321,
   "metadata": {},
   "outputs": [],
   "source": [
    "# Coerce 'Event.Date' into pandas date time object\n",
    "df[\"Event.Date\"] = pd.to_datetime(df['Event.Date'], format='%Y-%m-%d', errors = 'coerce')\n",
    "# Assert that Event.Date is not a datetime64 dtype:\n",
    "assert ptypes.is_datetime64_any_dtype(df['Event.Date'])\n",
    "\n"
   ]
  },
  {
   "cell_type": "markdown",
   "metadata": {},
   "source": [
    "## Clean Event.Id Column\n",
    "### This removes nulls from Event.Id, Investigation.Type, Accident.Number, and Event.Date"
   ]
  },
  {
   "cell_type": "code",
   "execution_count": 322,
   "metadata": {},
   "outputs": [],
   "source": [
    "# Drop rows where 'Event.Id' is NULL\n",
    "df_clean = df.dropna(subset=['Event.Id'])\n"
   ]
  },
  {
   "cell_type": "code",
   "execution_count": 323,
   "metadata": {},
   "outputs": [],
   "source": [
    "# Drop duplicates using the Event.Id column\n",
    "df_clean1 = df_clean.drop_duplicates(subset=['Event.Id'])\n"
   ]
  },
  {
   "cell_type": "code",
   "execution_count": 324,
   "metadata": {},
   "outputs": [
    {
     "data": {
      "text/plain": [
       "Event.Id                      0\n",
       "Investigation.Type            0\n",
       "Accident.Number               0\n",
       "Event.Date                    0\n",
       "Location                     52\n",
       "Country                     222\n",
       "Latitude                  53739\n",
       "Longitude                 53748\n",
       "Airport.Code              38350\n",
       "Airport.Name              35834\n",
       "Injury.Severity             990\n",
       "Aircraft.damage            3103\n",
       "Aircraft.Category         55770\n",
       "Registration.Number        1285\n",
       "Make                         63\n",
       "Model                        92\n",
       "Amateur.Built               100\n",
       "Number.of.Engines          6027\n",
       "Engine.Type                7024\n",
       "FAR.Description           56036\n",
       "Schedule                  75591\n",
       "Purpose.of.flight          6122\n",
       "Air.carrier               71418\n",
       "Total.Fatal.Injuries      11267\n",
       "Total.Serious.Injuries    12322\n",
       "Total.Minor.Injuries      11760\n",
       "Total.Uninjured            5863\n",
       "Weather.Condition          4473\n",
       "Broad.phase.of.flight     27114\n",
       "Report.Status              6361\n",
       "Publication.Date          15057\n",
       "dtype: int64"
      ]
     },
     "execution_count": 324,
     "metadata": {},
     "output_type": "execute_result"
    }
   ],
   "source": [
    "# After dropping rows where NOT Event.Id null,\n",
    "# We now have a dataset where first 4 columns have no nulls\n",
    "# We think this makes sense because without an id or accident number, the event wasn't properly documented\n",
    "df_clean1.isna().sum()"
   ]
  },
  {
   "cell_type": "markdown",
   "metadata": {},
   "source": [
    "# Subset based on Event.Date\n",
    "- We wanted to only look at past 30 years because planes older than that likely no longer flying"
   ]
  },
  {
   "cell_type": "code",
   "execution_count": 325,
   "metadata": {},
   "outputs": [],
   "source": [
    "# Subset data to look at past 30 years of data:\n",
    "df_30 = df_clean1[df_clean1['Event.Date'] >= '1993-01-01']"
   ]
  },
  {
   "cell_type": "code",
   "execution_count": 326,
   "metadata": {},
   "outputs": [
    {
     "name": "stdout",
     "output_type": "stream",
     "text": [
      "1993-01-01 00:00:00\n",
      "2022-12-29 00:00:00\n"
     ]
    }
   ],
   "source": [
    "# Check Date Range\n",
    "print(df_30['Event.Date'].min())\n",
    "print(df_30['Event.Date'].max())\n"
   ]
  },
  {
   "cell_type": "markdown",
   "metadata": {},
   "source": [
    "# Create Total Injuries Column"
   ]
  },
  {
   "cell_type": "code",
   "execution_count": 327,
   "metadata": {},
   "outputs": [
    {
     "data": {
      "text/html": [
       "<div>\n",
       "<style scoped>\n",
       "    .dataframe tbody tr th:only-of-type {\n",
       "        vertical-align: middle;\n",
       "    }\n",
       "\n",
       "    .dataframe tbody tr th {\n",
       "        vertical-align: top;\n",
       "    }\n",
       "\n",
       "    .dataframe thead th {\n",
       "        text-align: right;\n",
       "    }\n",
       "</style>\n",
       "<table border=\"1\" class=\"dataframe\">\n",
       "  <thead>\n",
       "    <tr style=\"text-align: right;\">\n",
       "      <th></th>\n",
       "      <th>Total.Injuries</th>\n",
       "      <th>Total.Fatal.Injuries</th>\n",
       "      <th>Total.Minor.Injuries</th>\n",
       "      <th>Total.Serious.Injuries</th>\n",
       "    </tr>\n",
       "  </thead>\n",
       "  <tbody>\n",
       "    <tr>\n",
       "      <th>32026</th>\n",
       "      <td>2.0</td>\n",
       "      <td>1.0</td>\n",
       "      <td>1.0</td>\n",
       "      <td>0.0</td>\n",
       "    </tr>\n",
       "    <tr>\n",
       "      <th>32027</th>\n",
       "      <td>1.0</td>\n",
       "      <td>0.0</td>\n",
       "      <td>0.0</td>\n",
       "      <td>1.0</td>\n",
       "    </tr>\n",
       "    <tr>\n",
       "      <th>32028</th>\n",
       "      <td>1.0</td>\n",
       "      <td>0.0</td>\n",
       "      <td>1.0</td>\n",
       "      <td>0.0</td>\n",
       "    </tr>\n",
       "    <tr>\n",
       "      <th>32029</th>\n",
       "      <td>1.0</td>\n",
       "      <td>0.0</td>\n",
       "      <td>1.0</td>\n",
       "      <td>0.0</td>\n",
       "    </tr>\n",
       "    <tr>\n",
       "      <th>32030</th>\n",
       "      <td>0.0</td>\n",
       "      <td>0.0</td>\n",
       "      <td>0.0</td>\n",
       "      <td>0.0</td>\n",
       "    </tr>\n",
       "  </tbody>\n",
       "</table>\n",
       "</div>"
      ],
      "text/plain": [
       "       Total.Injuries  Total.Fatal.Injuries  Total.Minor.Injuries  \\\n",
       "32026             2.0                   1.0                   1.0   \n",
       "32027             1.0                   0.0                   0.0   \n",
       "32028             1.0                   0.0                   1.0   \n",
       "32029             1.0                   0.0                   1.0   \n",
       "32030             0.0                   0.0                   0.0   \n",
       "\n",
       "       Total.Serious.Injuries  \n",
       "32026                     0.0  \n",
       "32027                     1.0  \n",
       "32028                     0.0  \n",
       "32029                     0.0  \n",
       "32030                     0.0  "
      ]
     },
     "execution_count": 327,
     "metadata": {},
     "output_type": "execute_result"
    }
   ],
   "source": [
    "# Create Total Injuries Column\n",
    "df_30['Total.Injuries'] = df_30['Total.Fatal.Injuries'] + df_30['Total.Minor.Injuries'] + df_30['Total.Serious.Injuries'] \n",
    "# Sanity Check new 'Total.Injuries' Column:\n",
    "df_30[['Total.Injuries', 'Total.Fatal.Injuries', 'Total.Minor.Injuries', 'Total.Serious.Injuries']].head()"
   ]
  },
  {
   "cell_type": "markdown",
   "metadata": {},
   "source": [
    "# Clean Make and Model Columns"
   ]
  },
  {
   "cell_type": "code",
   "execution_count": 328,
   "metadata": {},
   "outputs": [],
   "source": [
    "#Cleaning the Make column (this gets rid of a lot of unique values)\n",
    "#Start by making everything lowercase\n",
    "df_30['Make'] = df_30['Make'].str.lower()\n",
    "#capitalize the beginning of each word\n",
    "df_30['Make'] = df_30['Make'].str.title()\n",
    "#Get rid of whitespace\n",
    "df_30['Make'] = df_30['Make'].str.strip()"
   ]
  },
  {
   "cell_type": "code",
   "execution_count": 329,
   "metadata": {},
   "outputs": [],
   "source": [
    "#Cleaning the Model column (I don’t think this got rid of any unique values)\n",
    "#Start by making everything uppercase\n",
    "df_30['Model'] = df_30['Model'].str.upper()\n",
    "#Get rid of whitespace\n",
    "df_30['Model'] = df_30['Model'].str.strip()"
   ]
  },
  {
   "cell_type": "code",
   "execution_count": 330,
   "metadata": {},
   "outputs": [
    {
     "data": {
      "text/plain": [
       "32026            8A\n",
       "32027          269C\n",
       "32028           152\n",
       "32029    PA-32R-301\n",
       "32030           120\n",
       "            ...    \n",
       "90343     PA-28-151\n",
       "90344          7ECA\n",
       "90345         8GCBC\n",
       "90346          210N\n",
       "90347     PA-24-260\n",
       "Name: Model, Length: 56405, dtype: object"
      ]
     },
     "execution_count": 330,
     "metadata": {},
     "output_type": "execute_result"
    }
   ],
   "source": [
    "df_30['Model']"
   ]
  },
  {
   "cell_type": "markdown",
   "metadata": {},
   "source": [
    "# Clean Aircraft.Category Column:\n",
    "- Here we will throw out only those Aircraft.Category rows where Airplane or NULL\n",
    "- Concatenate Make and Model = Make_Model\n",
    "- Keep the rows that are (Aircraft.Category = NULL) ONLY IF...\n",
    "- The Make_Model value is one that exists in rows that are (Aircraft.Category = 'Airplane')"
   ]
  },
  {
   "cell_type": "code",
   "execution_count": 331,
   "metadata": {},
   "outputs": [],
   "source": [
    "#Get rid of non airplane rows but keep the nulls\n",
    "#First fill nulls with ‘n/a’\n",
    "df_30['Aircraft.Category'].fillna('n/a', inplace=True)\n",
    "#Keep only rows with ‘Airplane’ or ‘n/a’\n",
    "df_clean2 = df_30.loc[(df_30['Aircraft.Category'] == 'Airplane') | (df_30['Aircraft.Category'] == 'n/a')]\n"
   ]
  },
  {
   "cell_type": "code",
   "execution_count": 332,
   "metadata": {},
   "outputs": [
    {
     "data": {
      "text/plain": [
       "n/a         27840\n",
       "Airplane    24294\n",
       "Name: Aircraft.Category, dtype: int64"
      ]
     },
     "execution_count": 332,
     "metadata": {},
     "output_type": "execute_result"
    }
   ],
   "source": [
    "df_clean2['Aircraft.Category'].value_counts()"
   ]
  },
  {
   "cell_type": "code",
   "execution_count": 333,
   "metadata": {},
   "outputs": [],
   "source": [
    "# Create concatenated Make.Model column:\n",
    "df_clean2[\"Make.Model\"] = df_clean2['Make'].astype(str) +\"_\"+ df_clean2[\"Model\"]"
   ]
  },
  {
   "cell_type": "code",
   "execution_count": 334,
   "metadata": {},
   "outputs": [
    {
     "data": {
      "text/plain": [
       "32026         Luscombe_8A\n",
       "32027         Hughes_269C\n",
       "32028          Cessna_152\n",
       "32029    Piper_PA-32R-301\n",
       "32030          Cessna_120\n",
       "Name: Make.Model, dtype: object"
      ]
     },
     "execution_count": 334,
     "metadata": {},
     "output_type": "execute_result"
    }
   ],
   "source": [
    "df_clean2[\"Make.Model\"].head()"
   ]
  },
  {
   "cell_type": "code",
   "execution_count": 335,
   "metadata": {},
   "outputs": [
    {
     "data": {
      "text/plain": [
       "Aircraft.Category  Make.Model                 \n",
       "Airplane           177Mf Llc_PITTS MODEL 12       1\n",
       "                   2007 Savage Air Llc_EPIC LT    1\n",
       "                   2021Fx3 Llc_CCX-2000           2\n",
       "                   3Xtrim_450 ULTRA               1\n",
       "                   5 Rivers Llc_SQ-2              1\n",
       "                                                 ..\n",
       "n/a                nan_RV-4                       1\n",
       "                   nan_SUPER QUICKIE 2            1\n",
       "                   nan_TERATORN                   1\n",
       "                   nan_UNKNOWN                    1\n",
       "                   nan_VANS RV-6                  1\n",
       "Length: 14186, dtype: int64"
      ]
     },
     "execution_count": 335,
     "metadata": {},
     "output_type": "execute_result"
    }
   ],
   "source": [
    "# Preview counts for each Make.Model, grouped on Aircraft.Category:\n",
    "df_clean2.groupby(['Aircraft.Category','Make.Model']).size()\n"
   ]
  },
  {
   "cell_type": "markdown",
   "metadata": {},
   "source": [
    "### Split into two dataframes:"
   ]
  },
  {
   "cell_type": "code",
   "execution_count": 336,
   "metadata": {},
   "outputs": [],
   "source": [
    "# Isolate a dataframe only containing rows where category is Airplane:\n",
    "df_plane = df_clean2[df_clean2['Aircraft.Category'] == 'Airplane']\n",
    "# And one for category = n/a:\n",
    "df_na = df_clean2[df_clean2['Aircraft.Category'] == 'n/a']"
   ]
  },
  {
   "cell_type": "markdown",
   "metadata": {},
   "source": [
    "### Explore results:"
   ]
  },
  {
   "cell_type": "code",
   "execution_count": 337,
   "metadata": {},
   "outputs": [
    {
     "name": "stdout",
     "output_type": "stream",
     "text": [
      "(24294, 33)\n",
      "(7037,)\n"
     ]
    },
    {
     "data": {
      "text/plain": [
       "90328                          Piper_PA42\n",
       "90332             Cirrus Design Corp_SR22\n",
       "90335                  Swearingen_SA226TC\n",
       "90336                        Cessna_R172K\n",
       "90345    American Champion Aircraft_8GCBC\n",
       "Name: Make.Model, dtype: object"
      ]
     },
     "execution_count": 337,
     "metadata": {},
     "output_type": "execute_result"
    }
   ],
   "source": [
    "# Category = Airplane\n",
    "\n",
    "# 27,520 rows\n",
    "# 7,484 unique Make.Model values\n",
    "print(df_plane.shape)\n",
    "print(df_plane['Make.Model'].unique().shape)\n",
    "df_plane['Make.Model'].tail()"
   ]
  },
  {
   "cell_type": "code",
   "execution_count": 338,
   "metadata": {},
   "outputs": [
    {
     "name": "stdout",
     "output_type": "stream",
     "text": [
      "(27840, 33)\n",
      "(7151,)\n"
     ]
    },
    {
     "data": {
      "text/plain": [
       "90342    Air Tractor_AT502\n",
       "90343      Piper_PA-28-151\n",
       "90344        Bellanca_7ECA\n",
       "90346          Cessna_210N\n",
       "90347      Piper_PA-24-260\n",
       "Name: Make.Model, dtype: object"
      ]
     },
     "execution_count": 338,
     "metadata": {},
     "output_type": "execute_result"
    }
   ],
   "source": [
    "# Category = n/a\n",
    "\n",
    "# 55,770 rows\n",
    "# 11,038 unique Make.Model values\n",
    "print(df_na.shape)\n",
    "print(df_na['Make.Model'].unique().shape)\n",
    "df_na['Make.Model'].tail()"
   ]
  },
  {
   "cell_type": "markdown",
   "metadata": {},
   "source": [
    "### Filter the **category = n/a** rows to only contain the Make.Model values of Airplanes"
   ]
  },
  {
   "cell_type": "code",
   "execution_count": 339,
   "metadata": {},
   "outputs": [],
   "source": [
    "# Get a list of all of the unique values of \"Make.Model\" where aircraft.category = 'Aiplane':\n",
    "airplane_make_model_list = list(df_plane['Make.Model'].unique())"
   ]
  },
  {
   "cell_type": "code",
   "execution_count": 340,
   "metadata": {},
   "outputs": [],
   "source": [
    "# Go back to original dataframe \"df_clean2\" before we split it, and filter to only Make.Model values in airplane_make_model_list\n",
    "df_ap_mm = df_clean2[df_clean2['Make.Model'].isin(airplane_make_model_list)]"
   ]
  },
  {
   "cell_type": "code",
   "execution_count": 341,
   "metadata": {},
   "outputs": [
    {
     "name": "stdout",
     "output_type": "stream",
     "text": [
      "Airplane    24294\n",
      "n/a         19043\n",
      "Name: Aircraft.Category, dtype: int64\n",
      "(43337, 33)\n"
     ]
    }
   ],
   "source": [
    "# Sanity Check:\n",
    "# Number of rows where 'Aircraft.Category' = 'Airplane' vs. Total Rows\n",
    "print(df_ap_mm['Aircraft.Category'].value_counts())\n",
    "print(df_ap_mm.shape)"
   ]
  },
  {
   "cell_type": "markdown",
   "metadata": {},
   "source": [
    "### Now we only have Make.Model rows that we know are Airplanes, so we can replace all 'n/a' values with 'Airplane'"
   ]
  },
  {
   "cell_type": "code",
   "execution_count": 342,
   "metadata": {},
   "outputs": [],
   "source": [
    "# Fill 'n/a' value with 'Airplane':\n",
    "df_ap_mm['Aircraft.Category'] = df_ap_mm['Aircraft.Category'].replace(['n/a'], 'Airplane')\n"
   ]
  },
  {
   "cell_type": "markdown",
   "metadata": {},
   "source": [
    "# Clean Make and Model Data\n",
    "The Make and Model columns need to be cleaned to draw conclusions from the data."
   ]
  },
  {
   "cell_type": "code",
   "execution_count": 343,
   "metadata": {},
   "outputs": [],
   "source": [
    "#List of Aircraft Manufacturers used to clean data \n",
    "major_manufacturers=['Cessna',\n",
    "'Piper',\n",
    "'Beech',\n",
    "'Boeing',\n",
    "'Mooney',\n",
    "'Bellanca',\n",
    "'Air Tractor',\n",
    "'Grumman',\n",
    "'Maule',\n",
    "'Aeronca',\n",
    "'Champion',\n",
    "'Mcdonnell Douglas',\n",
    "'Airbus',\n",
    "'Stinson',\n",
    "'Luscombe',\n",
    "'Cirrus',\n",
    "'Aero Commander',\n",
    "'Taylorcraft',\n",
    "'North American',\n",
    "'De Havilland',\n",
    "'Embraer',\n",
    "'Cirrus',\n",
    "'Aviat',\n",
    "'Ayres',\n",
    "'Rockwell',\n",
    "'Grumman',\n",
    "'Socata',\n",
    "'Dehavilland',\n",
    "'Learjet',\n",
    "'Aviat',\n",
    "'Diamond Aircraft',\n",
    "'Ercoupe',\n",
    "'Bombardier',\n",
    "]\n",
    "\n",
    "#Filling null values\n",
    "df_30['Make'].fillna('n/a', inplace=True)\n",
    "#cleaning Make data and populating new column Make.Clean\n",
    "#e.g. The Boeing Aircraft Company, Boeing inc and boeing all become Boeing in Make.Clean\n",
    "for manufacturer in major_manufacturers:\n",
    "    df_30.loc[df_30['Make'].str.contains(manufacturer, case=False), 'Make.Clean'] = manufacturer\n",
    "#De Havilland is in the data as De Havilland and Dehavilland so it needs a special case\n",
    "df_30.loc[df_30['Make'].str.contains('Dehavilland', case=False), 'Make.Clean'] = 'De Havilland'"
   ]
  },
  {
   "cell_type": "markdown",
   "metadata": {},
   "source": [
    "# Cleaning Model Data\n",
    "Below are groups of the most popular aircraft models for Boeing, Airbus and Cessna. These were created using data from the companies websites. For example, Airbus considers its A319, A320 and A321 airliners to be variants in the A320 family so they are grouped together as the A320."
   ]
  },
  {
   "cell_type": "code",
   "execution_count": 344,
   "metadata": {},
   "outputs": [],
   "source": [
    "#Aircraft model groups\n",
    "boeing_aircraft_models = {'707':['707'],'717':['717'],'727':['727'],'737':['737'],'747':['747'],'757':['757'],\n",
    "                          '767':['767'],'777':['777'],'787':['787'],'Model 75':\n",
    "                          ['A75','A 75','A-75','B75','B 75','B-75','D75','D 75','D-75','E75','E 75','E-75','PT 17','PT-17','PT17']}\n",
    "airbus_aircraft_models = {'A220':['220','BD50'],'A300':['300','F462'],'A310':['310'],'A320':['319','320','321'],\n",
    "                          'A330':['330'],'A340':['340'],'A350':['350'],'A380':['380']}\n",
    "cessna_aircraft_models = ['152','172','150','180','182','140','170','188','185','177','210']\n",
    "#Filling null values in Model data\n",
    "df_30['Model'].fillna('n/a', inplace=True)"
   ]
  },
  {
   "cell_type": "markdown",
   "metadata": {},
   "source": [
    "# Boeing "
   ]
  },
  {
   "cell_type": "code",
   "execution_count": 345,
   "metadata": {},
   "outputs": [
    {
     "data": {
      "text/plain": [
       "737         917\n",
       "Model 75    247\n",
       "747         233\n",
       "767         185\n",
       "757         174\n",
       "777         158\n",
       "727          93\n",
       "787          41\n",
       "717          23\n",
       "707          15\n",
       "Name: Model.Clean, dtype: int64"
      ]
     },
     "execution_count": 345,
     "metadata": {},
     "output_type": "execute_result"
    }
   ],
   "source": [
    "#First creating a new data frame with just Boeing data\n",
    "boeing_data = pd.DataFrame(df_30.loc[df_30['Make.Clean']=='Boeing'])\n",
    "#Taking model data with variant information, grouping it by family and saving it in new column called Model.Clean\n",
    "#e.g. 737-200, B737-800 and 737-3B7 are all stored as 737\n",
    "\n",
    "#Looping through the boeing_aircraft_models dictionary\n",
    "for model in boeing_aircraft_models:\n",
    "    #Looping through individual dictionary entrys which are lists of variants that make up each aircraft model\n",
    "    for variant in boeing_aircraft_models[model]:\n",
    "        boeing_data.loc[boeing_data['Model'].str.contains(variant, case=False), 'Model.Clean'] = model\n",
    "        \n",
    "boeing_data['Model.Clean'].value_counts()"
   ]
  },
  {
   "cell_type": "markdown",
   "metadata": {},
   "source": [
    "# Airbus"
   ]
  },
  {
   "cell_type": "code",
   "execution_count": 346,
   "metadata": {},
   "outputs": [],
   "source": [
    "#First creating a new data frame with just Airbus data\n",
    "airbus_data = pd.DataFrame(df_30.loc[df_30['Make.Clean']=='Airbus'])"
   ]
  },
  {
   "cell_type": "code",
   "execution_count": 347,
   "metadata": {},
   "outputs": [],
   "source": [
    "#removeing dashes and white space then saving the first four characters \n",
    "airbus_data['Model'] = airbus_data['Model'].str.replace('-','')\n",
    "airbus_data['Model'] = airbus_data['Model'].str.replace(' ','')\n",
    "airbus_data['Model'] = airbus_data['Model'].str[:4]\n"
   ]
  },
  {
   "cell_type": "code",
   "execution_count": 348,
   "metadata": {},
   "outputs": [],
   "source": [
    "#Looping through the airbus_aircraft_models dictionary\n",
    "for model in airbus_aircraft_models:\n",
    "    #Looping through individual dictionary entrys which are lists of variants that make up each aircraft model\n",
    "    for variant in airbus_aircraft_models[model]:\n",
    "        airbus_data.loc[airbus_data['Model'].str.contains(variant, case=False), 'Model.Clean'] = model\n",
    "#Merging the Airbus_data back into the main data frame\n",
    "df_30['Model'].fillna('n/a', inplace=True)"
   ]
  },
  {
   "cell_type": "markdown",
   "metadata": {},
   "source": [
    "# Cessna"
   ]
  },
  {
   "cell_type": "code",
   "execution_count": 349,
   "metadata": {},
   "outputs": [],
   "source": [
    "#Taking model data with variant information, grouping it by family and saving it in new column called Model.Clean\n",
    "for model in cessna_aircraft_models:\n",
    "    df_30.loc[df_30['Model'].str.contains(model, case=False), 'Model.Clean'] = model\n",
    "df_30['Model.Clean'].fillna('n/a', inplace=True)"
   ]
  },
  {
   "cell_type": "markdown",
   "metadata": {},
   "source": [
    "# Combining Data Frames"
   ]
  },
  {
   "cell_type": "code",
   "execution_count": 350,
   "metadata": {},
   "outputs": [],
   "source": [
    "combined_data = airbus_data.merge(boeing_data, how = 'outer')"
   ]
  },
  {
   "cell_type": "markdown",
   "metadata": {},
   "source": [
    "# Exploring Boeing Accidents"
   ]
  },
  {
   "cell_type": "code",
   "execution_count": 351,
   "metadata": {},
   "outputs": [
    {
     "data": {
      "text/plain": [
       "Unknown                      401\n",
       "Personal                     211\n",
       "Positioning                   17\n",
       "Instructional                 14\n",
       "Other Work Use                12\n",
       "Business                      11\n",
       "Ferry                          6\n",
       "Flight Test                    6\n",
       "Air Race show                  5\n",
       "Public Aircraft                4\n",
       "Aerial Application             3\n",
       "Air Race/show                  3\n",
       "Public Aircraft - Federal      3\n",
       "Skydiving                      1\n",
       "Aerial Observation             1\n",
       "Public Aircraft - Local        1\n",
       "Air Drop                       1\n",
       "Public Aircraft - State        1\n",
       "External Load                  1\n",
       "Name: Purpose.of.flight, dtype: int64"
      ]
     },
     "execution_count": 351,
     "metadata": {},
     "output_type": "execute_result"
    }
   ],
   "source": [
    "combined_data['Purpose.of.flight'].value_counts()"
   ]
  },
  {
   "cell_type": "code",
   "execution_count": 352,
   "metadata": {},
   "outputs": [
    {
     "data": {
      "text/plain": [
       "1904"
      ]
     },
     "execution_count": 352,
     "metadata": {},
     "output_type": "execute_result"
    }
   ],
   "source": [
    "combined_data['Purpose.of.flight'].isna().sum()"
   ]
  },
  {
   "cell_type": "code",
   "execution_count": 353,
   "metadata": {},
   "outputs": [],
   "source": [
    "#There is already an 'Uknown' category so adding the nulls to this\n",
    "combined_data['Purpose.of.flight'].fillna('Unknown', inplace=True)"
   ]
  },
  {
   "cell_type": "code",
   "execution_count": 354,
   "metadata": {},
   "outputs": [
    {
     "data": {
      "text/plain": [
       "Unknown                      2305\n",
       "Personal                      211\n",
       "Positioning                    17\n",
       "Instructional                  14\n",
       "Other Work Use                 12\n",
       "Business                       11\n",
       "Ferry                           6\n",
       "Flight Test                     6\n",
       "Air Race show                   5\n",
       "Public Aircraft                 4\n",
       "Aerial Application              3\n",
       "Air Race/show                   3\n",
       "Public Aircraft - Federal       3\n",
       "Skydiving                       1\n",
       "Aerial Observation              1\n",
       "Public Aircraft - Local         1\n",
       "Air Drop                        1\n",
       "Public Aircraft - State         1\n",
       "External Load                   1\n",
       "Name: Purpose.of.flight, dtype: int64"
      ]
     },
     "execution_count": 354,
     "metadata": {},
     "output_type": "execute_result"
    }
   ],
   "source": [
    "#Sanity check\n",
    "combined_data['Purpose.of.flight'].value_counts()"
   ]
  },
  {
   "cell_type": "code",
   "execution_count": 355,
   "metadata": {},
   "outputs": [],
   "source": [
    "#Getting rid of the 'Uknown' values because these don't add value to us\n",
    "combined_data = combined_data[combined_data['Purpose.of.flight'] != 'Unknown']"
   ]
  },
  {
   "cell_type": "code",
   "execution_count": 356,
   "metadata": {},
   "outputs": [
    {
     "data": {
      "text/plain": [
       "Personal                     211\n",
       "Positioning                   17\n",
       "Instructional                 14\n",
       "Other Work Use                12\n",
       "Business                      11\n",
       "Flight Test                    6\n",
       "Ferry                          6\n",
       "Air Race show                  5\n",
       "Public Aircraft                4\n",
       "Aerial Application             3\n",
       "Public Aircraft - Federal      3\n",
       "Air Race/show                  3\n",
       "Public Aircraft - State        1\n",
       "Aerial Observation             1\n",
       "Public Aircraft - Local        1\n",
       "External Load                  1\n",
       "Air Drop                       1\n",
       "Skydiving                      1\n",
       "Name: Purpose.of.flight, dtype: int64"
      ]
     },
     "execution_count": 356,
     "metadata": {},
     "output_type": "execute_result"
    }
   ],
   "source": [
    "#Sanity check\n",
    "combined_data['Purpose.of.flight'].value_counts()"
   ]
  },
  {
   "cell_type": "code",
   "execution_count": 357,
   "metadata": {},
   "outputs": [],
   "source": [
    "#Create new DataFrame for only Boeing planes\n",
    "Boeing_Purpose = combined_data[combined_data['Make'] == 'Boeing']"
   ]
  },
  {
   "cell_type": "code",
   "execution_count": 358,
   "metadata": {},
   "outputs": [
    {
     "data": {
      "text/plain": [
       "['Personal', 'Positioning', 'Instructional', 'Business', 'Other Work Use']"
      ]
     },
     "execution_count": 358,
     "metadata": {},
     "output_type": "execute_result"
    }
   ],
   "source": [
    "#Create a list of the top 5 purposes of flights\n",
    "Purpose_Frequencies = Boeing_Purpose['Purpose.of.flight'].value_counts()\n",
    "Top_Purposes = list(Purpose_Frequencies.index[0:5])\n",
    "Top_Purposes"
   ]
  },
  {
   "cell_type": "code",
   "execution_count": 359,
   "metadata": {},
   "outputs": [
    {
     "data": {
      "text/plain": [
       "[168, 13, 11, 8, 6]"
      ]
     },
     "execution_count": 359,
     "metadata": {},
     "output_type": "execute_result"
    }
   ],
   "source": [
    "#Create a list of the counts of the top 5 purposes of flights\n",
    "Top_Purpose_Counts = list(Purpose_Frequencies.values[0:5])\n",
    "Top_Purpose_Counts"
   ]
  },
  {
   "cell_type": "code",
   "execution_count": 316,
   "metadata": {},
   "outputs": [
    {
     "name": "stderr",
     "output_type": "stream",
     "text": [
      "<ipython-input-316-1c4f977c198b>:11: UserWarning: FixedFormatter should only be used together with FixedLocator\n",
      "  ax.set_xticklabels(x, rotation=45)\n"
     ]
    },
    {
     "data": {
      "image/png": "[encoded data removed]",
      "text/plain": [
       "<Figure size 432x288 with 1 Axes>"
      ]
     },
     "metadata": {
      "needs_background": "light"
     },
     "output_type": "display_data"
    }
   ],
   "source": [
    "#Create bar chart that shows purposes of flights for only Boeing planes\n",
    "fig, ax = plt.subplots()\n",
    "\n",
    "x = Top_Purposes\n",
    "y = Top_Purpose_Counts\n",
    "\n",
    "ax.bar(x, y)\n",
    "ax.set_title('Top 5 Purposes of Boeing Flights')\n",
    "ax.set_ylabel('Amount of Accidents')\n",
    "ax.set_xlabel('Purpose of Flight')\n",
    "ax.set_xticklabels(x, rotation=45);"
   ]
  },
  {
   "cell_type": "code",
   "execution_count": null,
   "metadata": {},
   "outputs": [],
   "source": []
  }
 ],
 "metadata": {
  "kernelspec": {
   "display_name": "Python 3",
   "language": "python",
   "name": "python3"
  },
  "language_info": {
   "codemirror_mode": {
    "name": "ipython",
    "version": 3
   },
   "file_extension": ".py",
   "mimetype": "text/x-python",
   "name": "python",
   "nbconvert_exporter": "python",
   "pygments_lexer": "ipython3",
   "version": "3.8.5"
  }
 },
 "nbformat": 4,
 "nbformat_minor": 2
}
